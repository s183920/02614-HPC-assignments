{
 "cells": [
  {
   "cell_type": "code",
   "execution_count": null,
   "metadata": {},
   "outputs": [],
   "source": [
    "import help_funcs as hf"
   ]
  },
  {
   "cell_type": "code",
   "execution_count": 7,
   "metadata": {},
   "outputs": [],
   "source": [
    "import numpy as np\n",
    "N = 20\n",
    "\n",
    "\n",
    "def create_matrices(N):\n",
    "    f = lambda x,y,z: 3*np.pi*np.pi*np.sin(np.pi*x)*np.sin(np.pi*y)*np.sin(np.pi*z)\n",
    "    u = lambda x,y,z: np.sin(np.pi*x)*np.sin(np.pi*y)*np.sin(np.pi*z)\n",
    "\n",
    "    U = np.zeros((N+2,N+2,N+2))\n",
    "    U_true = np.zeros((N+2,N+2,N+2))\n",
    "    F = np.zeros((N+2,N+2,N+2))\n",
    "    step_size = 2/(N+1)\n",
    "    for i in range(N+2):\n",
    "        z = -1 + step_size*i\n",
    "        for j in range(N+2):\n",
    "            y = -1 + step_size*j\n",
    "            for k in range(N+2):\n",
    "                x = -1 + step_size*k\n",
    "                \n",
    "                F[i][j][k] = f(x,y,z)\n",
    "                U_true[i][j][k] = u(x,y,z)\n",
    "    \n",
    "    return U, U_true, F"
   ]
  },
  {
   "cell_type": "code",
   "execution_count": 8,
   "metadata": {},
   "outputs": [],
   "source": [
    "def gauss_seidel(U, F, tol = 0.0001, iter_max = 2000):\n",
    "    U_ = U.copy()\n",
    "    N = U.shape[0]-2\n",
    "    step_size = 2/(N+1)\n",
    "    diff = np.inf\n",
    "    iteration = 1\n",
    "    while (diff > tol) & (iteration <= iter_max):\n",
    "        diff = 0\n",
    "        for i in range(1, N+1):\n",
    "            for j in range(1, N+1):\n",
    "                for k in range(1, N+1):\n",
    "                    diff_tmp = 1/6 * (\n",
    "                        U_[i-1][j][k] + \n",
    "                        U_[i+1][j][k] + \n",
    "                        U_[i][j-1][k] + \n",
    "                        U_[i][j+1][k] + \n",
    "                        U_[i][j][k-1] + \n",
    "                        U_[i][j][k+1] + \n",
    "                        step_size * step_size * F[i][j][k])\n",
    "                    diff += (diff_tmp - U_[i][j][k]) * (diff_tmp - U_[i][j][k])\n",
    "                    U_[i][j][k] = diff_tmp\n",
    "        diff = np.sqrt(diff/(N**3))\n",
    "        iteration += 1\n",
    "\n",
    "    print(\"Number of iterations: \", iteration-1, \" with diff: \", diff)\n",
    "    return U_, iteration\n",
    "\n",
    "# U_new = gauss_seidel(U, F)\n"
   ]
  },
  {
   "cell_type": "code",
   "execution_count": 16,
   "metadata": {},
   "outputs": [
    {
     "name": "stderr",
     "output_type": "stream",
     "text": [
      "1it [00:00,  5.89it/s]"
     ]
    },
    {
     "name": "stdout",
     "output_type": "stream",
     "text": [
      "N =  10\n",
      "Number of iterations:  27  with diff:  9.046341566988682e-05\n",
      "err:  0.009390053541620702\n",
      "\n",
      "\n",
      "N =  20\n"
     ]
    },
    {
     "name": "stderr",
     "output_type": "stream",
     "text": [
      "2it [00:02,  1.45s/it]"
     ]
    },
    {
     "name": "stdout",
     "output_type": "stream",
     "text": [
      "Number of iterations:  68  with diff:  9.706284915116875e-05\n",
      "err:  0.0023127299333166374\n",
      "\n",
      "\n",
      "N =  30\n"
     ]
    },
    {
     "name": "stderr",
     "output_type": "stream",
     "text": [
      "3it [00:16,  7.33s/it]"
     ]
    },
    {
     "name": "stdout",
     "output_type": "stream",
     "text": [
      "Number of iterations:  125  with diff:  9.670475982447173e-05\n",
      "err:  0.001461899408481212\n",
      "\n",
      "\n",
      "N =  40\n"
     ]
    },
    {
     "name": "stderr",
     "output_type": "stream",
     "text": [
      "4it [01:09, 25.12s/it]"
     ]
    },
    {
     "name": "stdout",
     "output_type": "stream",
     "text": [
      "Number of iterations:  192  with diff:  9.826946794558197e-05\n",
      "err:  0.0035267000506117876\n",
      "\n",
      "\n",
      "N =  50\n"
     ]
    },
    {
     "name": "stderr",
     "output_type": "stream",
     "text": [
      "5it [02:53, 53.54s/it]"
     ]
    },
    {
     "name": "stdout",
     "output_type": "stream",
     "text": [
      "Number of iterations:  200  with diff:  0.000270378557945698\n",
      "err:  0.017261650428188297\n",
      "\n",
      "\n",
      "N =  60\n"
     ]
    },
    {
     "name": "stderr",
     "output_type": "stream",
     "text": [
      "6it [05:55, 97.45s/it]"
     ]
    },
    {
     "name": "stdout",
     "output_type": "stream",
     "text": [
      "Number of iterations:  200  with diff:  0.00046569606246708856\n",
      "err:  0.04338720690405451\n",
      "\n",
      "\n",
      "N =  70\n"
     ]
    },
    {
     "name": "stderr",
     "output_type": "stream",
     "text": [
      "7it [10:48, 161.17s/it]"
     ]
    },
    {
     "name": "stdout",
     "output_type": "stream",
     "text": [
      "Number of iterations:  200  with diff:  0.0005948033634266226\n",
      "err:  0.07549570905746543\n",
      "\n",
      "\n",
      "N =  80\n"
     ]
    },
    {
     "name": "stderr",
     "output_type": "stream",
     "text": [
      "8it [17:55, 245.77s/it]"
     ]
    },
    {
     "name": "stdout",
     "output_type": "stream",
     "text": [
      "Number of iterations:  200  with diff:  0.0006537209876936755\n",
      "err:  0.1082469797874522\n",
      "\n",
      "\n",
      "N =  90\n"
     ]
    },
    {
     "name": "stderr",
     "output_type": "stream",
     "text": [
      "9it [28:09, 360.94s/it]"
     ]
    },
    {
     "name": "stdout",
     "output_type": "stream",
     "text": [
      "Number of iterations:  200  with diff:  0.0006627382234030815\n",
      "err:  0.13867633602538493\n",
      "\n",
      "\n",
      "N =  100\n"
     ]
    },
    {
     "name": "stderr",
     "output_type": "stream",
     "text": [
      "10it [42:21, 254.12s/it]"
     ]
    },
    {
     "name": "stdout",
     "output_type": "stream",
     "text": [
      "Number of iterations:  200  with diff:  0.0006421226015918668\n",
      "err:  0.1656310894691749\n",
      "\n",
      "\n"
     ]
    },
    {
     "name": "stderr",
     "output_type": "stream",
     "text": [
      "\n"
     ]
    }
   ],
   "source": [
    "from tqdm import tqdm\n",
    "N= [10, 20, 30, 40, 50, 60, 70, 80, 90, 100]\n",
    "tol = 0.0001\n",
    "errors = np.zeros(len(N))\n",
    "iters = np.zeros(len(N))\n",
    "\n",
    "for i, n in tqdm(enumerate(N)):\n",
    "    print(\"N = \", n)\n",
    "    U, U_true, F = create_matrices(n)\n",
    "    U_new, iter = gauss_seidel(U, F, tol = tol, iter_max = 200)\n",
    "\n",
    "    assert all([\n",
    "        U_new[:, :, 0].sum() == 0,\n",
    "        U_new[:, :,-1].sum() == 0,\n",
    "        U_new[:, 0, :].sum() == 0,\n",
    "        U_new[:, -1, :].sum() == 0,\n",
    "        U_new[0, :, :].sum() == 0,\n",
    "        U_new[-1, :, :].sum() == 0,\n",
    "    ])\n",
    "\n",
    "    U_err = U_new - U_true\n",
    "    err = np.sqrt((U_err[1:-1][1:-1][1:-1]**2).mean())\n",
    "\n",
    "    errors[i] = err\n",
    "    iters[i] = iter\n",
    "\n",
    "    print(\"err: \", err)\n",
    "    print(\"\\n\")"
   ]
  },
  {
   "cell_type": "code",
   "execution_count": 17,
   "metadata": {},
   "outputs": [
    {
     "data": {
      "image/png": "[encoded data removed]",
      "text/plain": [
       "<Figure size 1000x500 with 2 Axes>"
      ]
     },
     "metadata": {},
     "output_type": "display_data"
    }
   ],
   "source": [
    "import matplotlib.pyplot as plt\n",
    "import seaborn as sns\n",
    "sns.set()\n",
    "fig, axes = plt.subplots(1,2, figsize = (10, 5))\n",
    "\n",
    "ax = axes[0]\n",
    "ax.plot(errors, marker = \"x\")\n",
    "ax.set_xlabel(\"N\")\n",
    "ax.set_xticks(range(len(N)))\n",
    "ax.set_xticklabels(N)\n",
    "ax.set_ylabel(\"Error\")\n",
    "\n",
    "ax = axes[1]\n",
    "ax.plot(iters, marker = \"o\")\n",
    "ax.set_xlabel(\"N\")\n",
    "ax.set_xticks(range(len(N)))\n",
    "ax.set_xticklabels(N)\n",
    "ax.set_ylabel(\"Iterations\")\n",
    "\n",
    "\n",
    "plt.show()"
   ]
  },
  {
   "cell_type": "code",
   "execution_count": 22,
   "metadata": {},
   "outputs": [
    {
     "name": "stderr",
     "output_type": "stream",
     "text": [
      "/tmp/ipykernel_225688/2592233490.py:12: SettingWithCopyWarning: \n",
      "A value is trying to be set on a copy of a slice from a DataFrame\n",
      "\n",
      "See the caveats in the documentation: https://pandas.pydata.org/pandas-docs/stable/user_guide/indexing.html#returning-a-view-versus-a-copy\n",
      "  df[\"times\"][i] -= df[\"times\"][i-1]\n"
     ]
    },
    {
     "data": {
      "text/html": [
       "<div>\n",
       "<style scoped>\n",
       "    .dataframe tbody tr th:only-of-type {\n",
       "        vertical-align: middle;\n",
       "    }\n",
       "\n",
       "    .dataframe tbody tr th {\n",
       "        vertical-align: top;\n",
       "    }\n",
       "\n",
       "    .dataframe thead th {\n",
       "        text-align: right;\n",
       "    }\n",
       "</style>\n",
       "<table border=\"1\" class=\"dataframe\">\n",
       "  <thead>\n",
       "    <tr style=\"text-align: right;\">\n",
       "      <th></th>\n",
       "      <th>n</th>\n",
       "      <th>errors</th>\n",
       "      <th>iters</th>\n",
       "      <th>times</th>\n",
       "      <th>norm_diff</th>\n",
       "    </tr>\n",
       "  </thead>\n",
       "  <tbody>\n",
       "    <tr>\n",
       "      <th>0</th>\n",
       "      <td>10</td>\n",
       "      <td>0.009390</td>\n",
       "      <td>28.0</td>\n",
       "      <td>0.1</td>\n",
       "      <td>0.000090</td>\n",
       "    </tr>\n",
       "    <tr>\n",
       "      <th>1</th>\n",
       "      <td>20</td>\n",
       "      <td>0.002313</td>\n",
       "      <td>69.0</td>\n",
       "      <td>1.9</td>\n",
       "      <td>0.000097</td>\n",
       "    </tr>\n",
       "    <tr>\n",
       "      <th>2</th>\n",
       "      <td>30</td>\n",
       "      <td>0.001462</td>\n",
       "      <td>126.0</td>\n",
       "      <td>14.1</td>\n",
       "      <td>0.000097</td>\n",
       "    </tr>\n",
       "    <tr>\n",
       "      <th>3</th>\n",
       "      <td>40</td>\n",
       "      <td>0.003527</td>\n",
       "      <td>193.0</td>\n",
       "      <td>54.9</td>\n",
       "      <td>0.000098</td>\n",
       "    </tr>\n",
       "    <tr>\n",
       "      <th>4</th>\n",
       "      <td>50</td>\n",
       "      <td>0.017262</td>\n",
       "      <td>201.0</td>\n",
       "      <td>118.1</td>\n",
       "      <td>0.000270</td>\n",
       "    </tr>\n",
       "    <tr>\n",
       "      <th>5</th>\n",
       "      <td>60</td>\n",
       "      <td>0.043387</td>\n",
       "      <td>201.0</td>\n",
       "      <td>236.9</td>\n",
       "      <td>0.000466</td>\n",
       "    </tr>\n",
       "    <tr>\n",
       "      <th>6</th>\n",
       "      <td>70</td>\n",
       "      <td>0.075496</td>\n",
       "      <td>201.0</td>\n",
       "      <td>411.1</td>\n",
       "      <td>0.000595</td>\n",
       "    </tr>\n",
       "    <tr>\n",
       "      <th>7</th>\n",
       "      <td>80</td>\n",
       "      <td>0.108247</td>\n",
       "      <td>201.0</td>\n",
       "      <td>663.9</td>\n",
       "      <td>0.000654</td>\n",
       "    </tr>\n",
       "    <tr>\n",
       "      <th>8</th>\n",
       "      <td>90</td>\n",
       "      <td>0.138676</td>\n",
       "      <td>201.0</td>\n",
       "      <td>1025.1</td>\n",
       "      <td>0.000663</td>\n",
       "    </tr>\n",
       "    <tr>\n",
       "      <th>9</th>\n",
       "      <td>100</td>\n",
       "      <td>0.165631</td>\n",
       "      <td>201.0</td>\n",
       "      <td>1515.9</td>\n",
       "      <td>0.000642</td>\n",
       "    </tr>\n",
       "  </tbody>\n",
       "</table>\n",
       "</div>"
      ],
      "text/plain": [
       "     n    errors  iters   times  norm_diff\n",
       "0   10  0.009390   28.0     0.1   0.000090\n",
       "1   20  0.002313   69.0     1.9   0.000097\n",
       "2   30  0.001462  126.0    14.1   0.000097\n",
       "3   40  0.003527  193.0    54.9   0.000098\n",
       "4   50  0.017262  201.0   118.1   0.000270\n",
       "5   60  0.043387  201.0   236.9   0.000466\n",
       "6   70  0.075496  201.0   411.1   0.000595\n",
       "7   80  0.108247  201.0   663.9   0.000654\n",
       "8   90  0.138676  201.0  1025.1   0.000663\n",
       "9  100  0.165631  201.0  1515.9   0.000642"
      ]
     },
     "execution_count": 22,
     "metadata": {},
     "output_type": "execute_result"
    }
   ],
   "source": [
    "import pandas as pd\n",
    "\n",
    "df = pd.DataFrame()\n",
    "df[\"n\"] = N\n",
    "df[\"errors\"] = errors\n",
    "df[\"iters\"] = iters\n",
    "df[\"times\"] = [0.1, 2, 16, 1*60+9, 2*60+53, 5*60+55, 10*60+48, 17*60+55, 28*60+9, 42*60+21]\n",
    "df[\"norm_diff\"] = [9.046341566988682e-05,9.706284915116875e-05,9.670475982447173e-05,9.826946794558197e-05,\n",
    "0.000270378557945698,0.00046569606246708856,0.0005948033634266226,0.0006537209876936755,0.0006627382234030815,0.0006421226015918668]\n",
    "\n",
    "for i in range(1, len(N)):\n",
    "    df[\"times\"][i] -= df[\"times\"][i-1]\n",
    "\n",
    "df.to_csv(\"dummy_data_N.csv\", index = False)\n",
    "\n",
    "df"
   ]
  }
 ],
 "metadata": {
  "kernelspec": {
   "display_name": "hpc_env",
   "language": "python",
   "name": "python3"
  },
  "language_info": {
   "codemirror_mode": {
    "name": "ipython",
    "version": 3
   },
   "file_extension": ".py",
   "mimetype": "text/x-python",
   "name": "python",
   "nbconvert_exporter": "python",
   "pygments_lexer": "ipython3",
   "version": "3.9.11"
  },
  "orig_nbformat": 4,
  "vscode": {
   "interpreter": {
    "hash": "3aa976796bba1df9a93a3d84ef743c278794b382e4ea614e0389a208bb1ad81f"
   }
  }
 },
 "nbformat": 4,
 "nbformat_minor": 2
}
